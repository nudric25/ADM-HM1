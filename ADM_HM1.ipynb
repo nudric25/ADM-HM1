{
  "nbformat": 4,
  "nbformat_minor": 0,
  "metadata": {
    "colab": {
      "provenance": []
    },
    "kernelspec": {
      "name": "python3",
      "display_name": "Python 3"
    },
    "language_info": {
      "name": "python"
    }
  },
  "cells": [
    {
      "cell_type": "markdown",
      "source": [
        "#Say \"Hello, World!\" With Python\n"
      ],
      "metadata": {
        "id": "Z_dPjkj-h6Sc"
      }
    },
    {
      "cell_type": "code",
      "execution_count": null,
      "metadata": {
        "id": "9sjCOC-XhpCD"
      },
      "outputs": [],
      "source": [
        "if __name__ == '__main__':\n",
        "    print(\"Hello, World!\")\n"
      ]
    },
    {
      "cell_type": "markdown",
      "source": [
        "#Python If-Else\n"
      ],
      "metadata": {
        "id": "BZzTkY42iBCx"
      }
    },
    {
      "cell_type": "code",
      "source": [
        "import math\n",
        "import os\n",
        "import random\n",
        "import re\n",
        "import sys\n",
        "\n",
        "\n",
        "\n",
        "if __name__ == '__main__':\n",
        "    n= int(input().strip())\n",
        "if not n % 2==0:\n",
        "       print(\"Weird\")\n",
        "else:\n",
        "    if n in range(2,6):\n",
        "        print(\"Not Weird\")\n",
        "    if n in range (6,21):\n",
        "        print (\"Weird\")\n",
        "    if n >20:\n",
        "        print(\"Not Weird\")\n",
        "\n"
      ],
      "metadata": {
        "id": "5aj1PbvtiJuI"
      },
      "execution_count": null,
      "outputs": []
    },
    {
      "cell_type": "markdown",
      "source": [
        "#Arithmetic Operators\n"
      ],
      "metadata": {
        "id": "-C9VGUQViNWz"
      }
    },
    {
      "cell_type": "code",
      "source": [
        "if __name__ == '__main__':\n",
        "    a = int(input())\n",
        "    b = int(input())\n",
        "    def somma (a,b):\n",
        "        print(a+b)\n",
        "    def sottrazione (a,b):\n",
        "        print (a-b)\n",
        "    def prodotto (a,b):\n",
        "        print(a*b)\n",
        "somma(a,b)\n",
        "sottrazione(a,b)\n",
        "prodotto(a,b)\n"
      ],
      "metadata": {
        "id": "gbim2sHSiSFX"
      },
      "execution_count": null,
      "outputs": []
    },
    {
      "cell_type": "markdown",
      "source": [
        "#Python: Division\n"
      ],
      "metadata": {
        "id": "E3fEb4fuiUn4"
      }
    },
    {
      "cell_type": "code",
      "source": [
        "if __name__ == '__main__':\n",
        "    a = int(input())\n",
        "    b = int(input())\n",
        "\n",
        "print(a//b)\n",
        "print(a/b)\n"
      ],
      "metadata": {
        "id": "LhkA_PU2icNC"
      },
      "execution_count": null,
      "outputs": []
    },
    {
      "cell_type": "markdown",
      "source": [
        "#Loops\n"
      ],
      "metadata": {
        "id": "UVR0Rovqie7g"
      }
    },
    {
      "cell_type": "code",
      "source": [
        "if __name__ == '__main__':\n",
        "    n = int(input())\n",
        "for i in range (0,n):\n",
        "    print(i**2)\n"
      ],
      "metadata": {
        "id": "MgRnjj6dikP4"
      },
      "execution_count": null,
      "outputs": []
    },
    {
      "cell_type": "markdown",
      "source": [
        "#Write a function\n"
      ],
      "metadata": {
        "id": "aAkZfR-9imHJ"
      }
    },
    {
      "cell_type": "code",
      "source": [
        "def is_leap(year):\n",
        "\n",
        "    if year % 4 == 0:\n",
        "        if year % 100 != 0 or year % 400 == 0:\n",
        "            return True\n",
        "    return False\n",
        "\n"
      ],
      "metadata": {
        "id": "z2JWmL_witLf"
      },
      "execution_count": null,
      "outputs": []
    },
    {
      "cell_type": "markdown",
      "source": [
        "#Print Function\n"
      ],
      "metadata": {
        "id": "L60JBivbiuue"
      }
    },
    {
      "cell_type": "code",
      "source": [
        "if __name__ == '__main__':\n",
        "    n = int(input())\n",
        "for n in range (1,n+1):\n",
        "    print (n, end=\"\")\n"
      ],
      "metadata": {
        "id": "fLeJXD6miz_a"
      },
      "execution_count": null,
      "outputs": []
    },
    {
      "cell_type": "markdown",
      "source": [
        "#List Comprehensions\n"
      ],
      "metadata": {
        "id": "8b1JpP0Ei1dL"
      }
    },
    {
      "cell_type": "code",
      "source": [
        "if __name__ == '__main__':\n",
        "    x = int(input())\n",
        "    y = int(input())\n",
        "    z = int(input())\n",
        "    n = int(input())\n",
        "coord= [[i, j, k] for i in range(x+1) for j in range (y+1) for k in range (z+1) if i+j+k !=n]\n",
        "\n",
        "print(coord)\n"
      ],
      "metadata": {
        "id": "fhA0WhIOi-hp"
      },
      "execution_count": null,
      "outputs": []
    },
    {
      "cell_type": "markdown",
      "source": [
        "#Find the Runner-Up Score!\n"
      ],
      "metadata": {
        "id": "-2S3QbnIjC3Q"
      }
    },
    {
      "cell_type": "code",
      "source": [
        "if __name__ == '__main__':\n",
        "    n = int(input())\n",
        "    scores = list(map(int, input().split()))\n",
        "    runner_up_score = sorted(set(scores))[-2]\n",
        "    print(runner_up_score)\n"
      ],
      "metadata": {
        "id": "zu501NqNjLXS"
      },
      "execution_count": null,
      "outputs": []
    },
    {
      "cell_type": "markdown",
      "source": [
        "#Nested Lists\n"
      ],
      "metadata": {
        "id": "uGPLsVk8jRW5"
      }
    },
    {
      "cell_type": "code",
      "source": [
        "if __name__ == '__main__':\n",
        "    students = []\n",
        "\n",
        "\n",
        "    n = int(input())\n",
        "    for _ in range(n):\n",
        "        name = input()\n",
        "        score = float(input())\n",
        "        students.append([name, score])\n",
        "\n",
        "\n",
        "    scores = sorted(set([student[1] for student in students]))\n",
        "    second_lowest = scores[1]\n",
        "\n",
        "\n",
        "    second_lowest_students = [student[0] for student in students if student[1] == second_lowest]\n",
        "\n",
        "\n",
        "    second_lowest_students.sort()\n",
        "\n",
        "\n",
        "    for student in second_lowest_students:\n",
        "        print(student)\n",
        "\n"
      ],
      "metadata": {
        "id": "bWMRzGlsjSZi"
      },
      "execution_count": null,
      "outputs": []
    },
    {
      "cell_type": "markdown",
      "source": [
        "#collections.Counter()\n"
      ],
      "metadata": {
        "id": "yv2nrKkcjVc2"
      }
    },
    {
      "cell_type": "code",
      "source": [
        "# Enter your code here. Read input from STDIN. Print output to STDOUT\n",
        "X=int(input())\n",
        "size_available=list(map(int, input().split()))\n",
        "N=int(input())\n",
        "earnings= 0\n",
        "for i in range (N):\n",
        "    dim_prezzo= list(map(int, input().split()))\n",
        "    if dim_prezzo[0] in size_available:\n",
        "        size_available.remove(dim_prezzo[0])\n",
        "        earnings+= dim_prezzo[1]\n",
        "    else:\n",
        "        earnings+=0\n",
        "print(earnings)\n"
      ],
      "metadata": {
        "id": "5acAlmJ-jdaO"
      },
      "execution_count": null,
      "outputs": []
    },
    {
      "cell_type": "markdown",
      "source": [
        "#DefaultDict Tutorial\n"
      ],
      "metadata": {
        "id": "fnnkOS-gjfrR"
      }
    },
    {
      "cell_type": "code",
      "source": [
        "n_m = list(map(int, input().split()))\n",
        "\n",
        "A = []\n",
        "for i in range(n_m[0]):\n",
        "    A.append(input())\n",
        "\n",
        "B = []\n",
        "for j in range(n_m[1]):\n",
        "    B.append(input())\n",
        "\n",
        "for k in range(len(B)):\n",
        "    lista = []\n",
        "    trovato = False\n",
        "    for i in range(len(A)):\n",
        "        if B[k] == A[i]:\n",
        "            lista.append(i + 1)\n",
        "            trovato = True\n",
        "    if not trovato:\n",
        "        print(-1)\n",
        "    else:\n",
        "        print(\" \".join(map(str, lista)))\n",
        "\n"
      ],
      "metadata": {
        "id": "YUIvO5Q3jmLK"
      },
      "execution_count": null,
      "outputs": []
    },
    {
      "cell_type": "markdown",
      "source": [
        "#Collections.namedtuple()\n"
      ],
      "metadata": {
        "id": "gzoJH4OJjqil"
      }
    },
    {
      "cell_type": "code",
      "source": [
        "# Enter your code here. Read input from STDIN. Print output to STDOU\n",
        "from collections import namedtuple\n",
        "n, columns = int(input()), input().split()\n",
        "Student = namedtuple('Student', columns)\n",
        "print(f\"{sum([int(Student(*input().split()).MARKS) for _ in range(n)])/n:.2f}\")\n",
        "\n"
      ],
      "metadata": {
        "id": "Z4h6ssHAjqBA"
      },
      "execution_count": null,
      "outputs": []
    },
    {
      "cell_type": "markdown",
      "source": [
        "#Collections.OrderedDict()\n"
      ],
      "metadata": {
        "id": "w1srBA12jzWZ"
      }
    },
    {
      "cell_type": "code",
      "source": [
        "from collections import OrderedDict\n",
        "\n",
        "N = int(input())\n",
        "ordered_dictionary = OrderedDict()\n",
        "\n",
        "for i in range(N):\n",
        "    nome, prezzo = input().rsplit(' ', 1)\n",
        "    prezzo = int(prezzo)\n",
        "    if nome in ordered_dictionary:\n",
        "        ordered_dictionary[nome] += prezzo\n",
        "    else:\n",
        "        ordered_dictionary[nome] = prezzo\n",
        "\n",
        "for name, price in ordered_dictionary.items():\n",
        "    print(f\"{name} {price}\")\n",
        "\n",
        "\n",
        "\n",
        "\n"
      ],
      "metadata": {
        "colab": {
          "base_uri": "https://localhost:8080/",
          "height": 365
        },
        "collapsed": true,
        "id": "LDUy6129kGvB",
        "outputId": "a6e6dccd-6df2-4ad5-fe14-47e04a280747"
      },
      "execution_count": null,
      "outputs": [
        {
          "output_type": "error",
          "ename": "KeyboardInterrupt",
          "evalue": "Interrupted by user",
          "traceback": [
            "\u001b[0;31m---------------------------------------------------------------------------\u001b[0m",
            "\u001b[0;31mKeyboardInterrupt\u001b[0m                         Traceback (most recent call last)",
            "\u001b[0;32m<ipython-input-2-d51d3477b504>\u001b[0m in \u001b[0;36m<cell line: 3>\u001b[0;34m()\u001b[0m\n\u001b[1;32m      1\u001b[0m \u001b[0;32mfrom\u001b[0m \u001b[0mcollections\u001b[0m \u001b[0;32mimport\u001b[0m \u001b[0mOrderedDict\u001b[0m\u001b[0;34m\u001b[0m\u001b[0;34m\u001b[0m\u001b[0m\n\u001b[1;32m      2\u001b[0m \u001b[0;34m\u001b[0m\u001b[0m\n\u001b[0;32m----> 3\u001b[0;31m \u001b[0mN\u001b[0m \u001b[0;34m=\u001b[0m \u001b[0mint\u001b[0m\u001b[0;34m(\u001b[0m\u001b[0minput\u001b[0m\u001b[0;34m(\u001b[0m\u001b[0;34m)\u001b[0m\u001b[0;34m)\u001b[0m\u001b[0;34m\u001b[0m\u001b[0;34m\u001b[0m\u001b[0m\n\u001b[0m\u001b[1;32m      4\u001b[0m \u001b[0mordered_dictionary\u001b[0m \u001b[0;34m=\u001b[0m \u001b[0mOrderedDict\u001b[0m\u001b[0;34m(\u001b[0m\u001b[0;34m)\u001b[0m\u001b[0;34m\u001b[0m\u001b[0;34m\u001b[0m\u001b[0m\n\u001b[1;32m      5\u001b[0m \u001b[0;34m\u001b[0m\u001b[0m\n",
            "\u001b[0;32m/usr/local/lib/python3.10/dist-packages/ipykernel/kernelbase.py\u001b[0m in \u001b[0;36mraw_input\u001b[0;34m(self, prompt)\u001b[0m\n\u001b[1;32m    849\u001b[0m                 \u001b[0;34m\"raw_input was called, but this frontend does not support input requests.\"\u001b[0m\u001b[0;34m\u001b[0m\u001b[0;34m\u001b[0m\u001b[0m\n\u001b[1;32m    850\u001b[0m             )\n\u001b[0;32m--> 851\u001b[0;31m         return self._input_request(str(prompt),\n\u001b[0m\u001b[1;32m    852\u001b[0m             \u001b[0mself\u001b[0m\u001b[0;34m.\u001b[0m\u001b[0m_parent_ident\u001b[0m\u001b[0;34m,\u001b[0m\u001b[0;34m\u001b[0m\u001b[0;34m\u001b[0m\u001b[0m\n\u001b[1;32m    853\u001b[0m             \u001b[0mself\u001b[0m\u001b[0;34m.\u001b[0m\u001b[0m_parent_header\u001b[0m\u001b[0;34m,\u001b[0m\u001b[0;34m\u001b[0m\u001b[0;34m\u001b[0m\u001b[0m\n",
            "\u001b[0;32m/usr/local/lib/python3.10/dist-packages/ipykernel/kernelbase.py\u001b[0m in \u001b[0;36m_input_request\u001b[0;34m(self, prompt, ident, parent, password)\u001b[0m\n\u001b[1;32m    893\u001b[0m             \u001b[0;32mexcept\u001b[0m \u001b[0mKeyboardInterrupt\u001b[0m\u001b[0;34m:\u001b[0m\u001b[0;34m\u001b[0m\u001b[0;34m\u001b[0m\u001b[0m\n\u001b[1;32m    894\u001b[0m                 \u001b[0;31m# re-raise KeyboardInterrupt, to truncate traceback\u001b[0m\u001b[0;34m\u001b[0m\u001b[0;34m\u001b[0m\u001b[0m\n\u001b[0;32m--> 895\u001b[0;31m                 \u001b[0;32mraise\u001b[0m \u001b[0mKeyboardInterrupt\u001b[0m\u001b[0;34m(\u001b[0m\u001b[0;34m\"Interrupted by user\"\u001b[0m\u001b[0;34m)\u001b[0m \u001b[0;32mfrom\u001b[0m \u001b[0;32mNone\u001b[0m\u001b[0;34m\u001b[0m\u001b[0;34m\u001b[0m\u001b[0m\n\u001b[0m\u001b[1;32m    896\u001b[0m             \u001b[0;32mexcept\u001b[0m \u001b[0mException\u001b[0m \u001b[0;32mas\u001b[0m \u001b[0me\u001b[0m\u001b[0;34m:\u001b[0m\u001b[0;34m\u001b[0m\u001b[0;34m\u001b[0m\u001b[0m\n\u001b[1;32m    897\u001b[0m                 \u001b[0mself\u001b[0m\u001b[0;34m.\u001b[0m\u001b[0mlog\u001b[0m\u001b[0;34m.\u001b[0m\u001b[0mwarning\u001b[0m\u001b[0;34m(\u001b[0m\u001b[0;34m\"Invalid Message:\"\u001b[0m\u001b[0;34m,\u001b[0m \u001b[0mexc_info\u001b[0m\u001b[0;34m=\u001b[0m\u001b[0;32mTrue\u001b[0m\u001b[0;34m)\u001b[0m\u001b[0;34m\u001b[0m\u001b[0;34m\u001b[0m\u001b[0m\n",
            "\u001b[0;31mKeyboardInterrupt\u001b[0m: Interrupted by user"
          ]
        }
      ]
    },
    {
      "cell_type": "markdown",
      "source": [
        "#Word Order\n"
      ],
      "metadata": {
        "id": "GCpL7CPKkJlE"
      }
    },
    {
      "cell_type": "code",
      "source": [
        "# Enter your code here. Read input from STDIN. Print output to STDOUT\n",
        "from collections import OrderedDict\n",
        "\n",
        "N = int(input())\n",
        "conteggio_parole = OrderedDict()\n",
        "\n",
        "for _ in range(N):\n",
        "    parola = input().strip()\n",
        "    if parola in conteggio_parole:\n",
        "        conteggio_parole[parola] += 1\n",
        "    else:\n",
        "        conteggio_parole[parola] = 1\n",
        "\n",
        "print(len(conteggio_parole))\n",
        "print(\" \".join(map(str, conteggio_parole.values())))\n"
      ],
      "metadata": {
        "id": "5XBHvvwfkRaW"
      },
      "execution_count": null,
      "outputs": []
    },
    {
      "cell_type": "markdown",
      "source": [
        "#Collections.deque()\n"
      ],
      "metadata": {
        "id": "_HcH9dcvkUIl"
      }
    },
    {
      "cell_type": "code",
      "source": [
        "# Enter your code here. Read input from STDIN. Print output to STDOUT\n",
        "import collections\n",
        "deque = collections.deque()\n",
        "for _ in range(int(input())):\n",
        "    try:\n",
        "        function, *key = input().split()\n",
        "        getattr(deque, function)(*key)\n",
        "    except ValueError:\n",
        "        function = str(input())\n",
        "        getattr(deque, function)()\n",
        "print(*deque)\n"
      ],
      "metadata": {
        "id": "PMHL6V3fkqSU"
      },
      "execution_count": null,
      "outputs": []
    },
    {
      "cell_type": "markdown",
      "source": [
        "#Piling Up!\n"
      ],
      "metadata": {
        "id": "ziUtSUZbksHd"
      }
    },
    {
      "cell_type": "code",
      "source": [
        "from collections import deque\n",
        "\n",
        "T = int(input())\n",
        "for _ in range(T):\n",
        "    n = int(input())\n",
        "    a = deque(map(int, input().split()))\n",
        "    b = []\n",
        "\n",
        "    while a:\n",
        "\n",
        "        if a[0] >= a[-1]:\n",
        "            b.append(a.popleft())\n",
        "        else:\n",
        "            b.append(a.pop())\n",
        "\n",
        "\n",
        "    if b == sorted(b, reverse=True):\n",
        "        print(\"Yes\")\n",
        "    else:\n",
        "        print(\"No\")\n",
        "\n"
      ],
      "metadata": {
        "id": "GaYGxRfZkyh4"
      },
      "execution_count": null,
      "outputs": []
    },
    {
      "cell_type": "markdown",
      "source": [
        "#Company Logo\n"
      ],
      "metadata": {
        "id": "1OgBt_cnk0w3"
      }
    },
    {
      "cell_type": "code",
      "source": [
        "from collections import Counter\n",
        "\n",
        "if __name__ == '__main__':\n",
        "    s = input().strip()\n",
        "    char_count = Counter(s)\n",
        "    sorted_chars = sorted(char_count.items(), key=lambda x: (-x[1], x[0]))\n",
        "\n",
        "    for char, count in sorted_chars[:3]:\n",
        "        print(char, count)\n",
        "\n",
        "\n"
      ],
      "metadata": {
        "id": "SsDjpCgHk7cM"
      },
      "execution_count": null,
      "outputs": []
    },
    {
      "cell_type": "markdown",
      "source": [
        "#Lists\n"
      ],
      "metadata": {
        "id": "Pnw7eiOJk9u0"
      }
    },
    {
      "cell_type": "code",
      "source": [
        "if __name__ == '__main__':\n",
        "    N = int(input())\n",
        "    lst = []\n",
        "\n",
        "    for _ in range(N):\n",
        "        command = input().split()\n",
        "        if command[0] == \"insert\":\n",
        "            lst.insert(int(command[1]), int(command[2]))\n",
        "        elif command[0] == \"print\":\n",
        "            print(lst)\n",
        "        elif command[0] == \"remove\":\n",
        "            lst.remove(int(command[1]))\n",
        "        elif command[0] == \"append\":\n",
        "            lst.append(int(command[1]))\n",
        "        elif command[0] == \"sort\":\n",
        "            lst.sort()\n",
        "        elif command[0] == \"pop\":\n",
        "            lst.pop()\n",
        "        elif command[0] == \"reverse\":\n",
        "            lst.reverse()\n"
      ],
      "metadata": {
        "id": "8SQNLBR7lCxN"
      },
      "execution_count": null,
      "outputs": []
    },
    {
      "cell_type": "markdown",
      "source": [
        "#Tuples\n"
      ],
      "metadata": {
        "id": "h30xWcimlEbM"
      }
    },
    {
      "cell_type": "code",
      "source": [
        "if __name__ == '__main__':\n",
        "    n = int(input())\n",
        "    lista_interi = tuple(map(int, input().split()))\n",
        "    print(hash(lista_interi))\n"
      ],
      "metadata": {
        "id": "AAQGOU-glIZ3"
      },
      "execution_count": null,
      "outputs": []
    },
    {
      "cell_type": "markdown",
      "source": [
        "#Finding the percentage\n"
      ],
      "metadata": {
        "id": "m3bC8UwQlK0E"
      }
    },
    {
      "cell_type": "code",
      "source": [
        "if __name__ == '__main__':\n",
        "    n = int(input())\n",
        "    student_marks = {}\n",
        "    for _ in range(n):\n",
        "        name, *line = input().split()\n",
        "        scores = list(map(float, line))\n",
        "        student_marks[name] = scores\n",
        "    query_name = input()\n",
        "    average = sum(student_marks[query_name]) / len(student_marks[query_name])\n",
        "    print(f\"{average:.2f}\")\n"
      ],
      "metadata": {
        "id": "u-iL4VJflPKu"
      },
      "execution_count": null,
      "outputs": []
    },
    {
      "cell_type": "markdown",
      "source": [
        "#Array Mathematics\n"
      ],
      "metadata": {
        "id": "3RB9wWbflRX1"
      }
    },
    {
      "cell_type": "code",
      "source": [
        "# Enter your code here. Read input from STDIN. Print output to STDOUT\n",
        "import numpy as np\n",
        "\n",
        "n, m = map(int, input().split())\n",
        "\n",
        "\n",
        "array1 = np.array([input().split() for i in range(n)], int)\n",
        "array2 = np.array([input().split() for j in range(n)], int)\n",
        "\n",
        "print(array1 + array2)\n",
        "print(array1 - array2)\n",
        "print(array1 * array2)\n",
        "print(array1 // array2)\n",
        "print(array1 % array2)\n",
        "print(array1 ** array2)\n"
      ],
      "metadata": {
        "id": "dr30R0hulVIP"
      },
      "execution_count": null,
      "outputs": []
    },
    {
      "cell_type": "markdown",
      "source": [
        "#Floor, Ceil and Rint\n"
      ],
      "metadata": {
        "id": "x-qS_gDclXJn"
      }
    },
    {
      "cell_type": "code",
      "source": [
        "# Enter your code here. Read input from STDIN. Print output to STDOUT\n",
        "import numpy as np\n",
        "np.set_printoptions(legacy='1.13')\n",
        "A = np.array(tuple(map(float,input().split())))\n",
        "print(\"%s\\n%s\\n%s\"%(np.floor(A),np.ceil(A),np.rint(A)))\n",
        "\n"
      ],
      "metadata": {
        "id": "TevOWIKgld1g"
      },
      "execution_count": null,
      "outputs": []
    },
    {
      "cell_type": "markdown",
      "source": [
        "#Sum and Prod\n"
      ],
      "metadata": {
        "id": "GgUG4R5MlgEt"
      }
    },
    {
      "cell_type": "code",
      "source": [
        "import numpy as np\n",
        "N,M = map(int,input().split())\n",
        "print(np.prod(np.sum(np.array([list(map(int,input().split())) for _ in range(N)]),axis=0)))\n"
      ],
      "metadata": {
        "id": "kT6IKaFFlkdu"
      },
      "execution_count": null,
      "outputs": []
    },
    {
      "cell_type": "markdown",
      "source": [
        "#Min and Max\n"
      ],
      "metadata": {
        "id": "_ZGS_KJvlm2l"
      }
    },
    {
      "cell_type": "code",
      "source": [
        "# Enter your code here. Read input from STDIN. Print output to STDOUT\n",
        "import numpy as np\n",
        "\n",
        "n, m = map(int, input().split())\n",
        "array = np.array([input().split() for _ in range(n)], int)\n",
        "\n",
        "minimo = np.min(array, axis=1)\n",
        "print(np.max(minimo))\n"
      ],
      "metadata": {
        "id": "LlNEF9EylrUy"
      },
      "execution_count": null,
      "outputs": []
    },
    {
      "cell_type": "markdown",
      "source": [
        "#Mean, Var, and Std\n"
      ],
      "metadata": {
        "id": "RJHzWjijltkj"
      }
    },
    {
      "cell_type": "code",
      "source": [
        "import numpy as np\n",
        "\n",
        "n, m = map(int, input().split())\n",
        "\n",
        "arr = [list(map(int, input().split()[:m])) for i in range(n)]\n",
        "\n",
        "arr = np.array(arr)\n",
        "\n",
        "print(np.mean(arr, axis = 1))\n",
        "\n",
        "print(np.var(arr, axis = 0))\n",
        "\n",
        "print(np.around(np.std(arr, axis = None),11))\n"
      ],
      "metadata": {
        "id": "5M7SlQi1lxRh"
      },
      "execution_count": null,
      "outputs": []
    },
    {
      "cell_type": "markdown",
      "source": [
        "#Dot and Cross\n"
      ],
      "metadata": {
        "id": "mdtHpkRvl4ja"
      }
    },
    {
      "cell_type": "code",
      "source": [
        "# Enter your code here. Read input from STDIN. Print output to STDOUT\n",
        "import numpy as np\n",
        "\n",
        "n = int(input())\n",
        "A = np.array([input().split() for _ in range(n)], int)\n",
        "B = np.array([input().split() for _ in range(n)], int)\n",
        "\n",
        "print(np.dot(A, B))\n"
      ],
      "metadata": {
        "id": "ZqB41Ykql5gE"
      },
      "execution_count": null,
      "outputs": []
    },
    {
      "cell_type": "markdown",
      "source": [
        "#Inner and Outer\n"
      ],
      "metadata": {
        "id": "hJr1MTa7l7dW"
      }
    },
    {
      "cell_type": "code",
      "source": [
        "# Enter your code here. Read input from STDIN. Print output to STDOUT\n",
        "import numpy as np\n",
        "\n",
        "A = np.array(list(map(int, input().split())))\n",
        "B = np.array(list(map(int, input().split())))\n",
        "\n",
        "print(np.inner(A, B))\n",
        "print(np.outer(A, B))\n"
      ],
      "metadata": {
        "id": "He_NZ4t7l_Yp"
      },
      "execution_count": null,
      "outputs": []
    },
    {
      "cell_type": "markdown",
      "source": [
        "#Polynomials\n"
      ],
      "metadata": {
        "id": "tujR1JrCmCB7"
      }
    },
    {
      "cell_type": "code",
      "source": [
        "# Enter your code here. Read input from STDIN. Print output to STDOUT\n",
        "import numpy as np\n",
        "\n",
        "coefficients = list(map(float, input().split()))\n",
        "x = float(input())\n",
        "\n",
        "print(np.polyval(coefficients, x))\n"
      ],
      "metadata": {
        "id": "yDR9n771mFG2"
      },
      "execution_count": null,
      "outputs": []
    },
    {
      "cell_type": "markdown",
      "source": [
        "#Linear Algebra\n"
      ],
      "metadata": {
        "id": "mi4ByiKWmHOv"
      }
    },
    {
      "cell_type": "code",
      "source": [
        "# Enter your code here. Read input from STDIN. Print output to STDOUT\n",
        "\n",
        "import numpy\n",
        "\n",
        "n = int(input())\n",
        "a = [list(map(float, input().split())) for _ in range(n)]\n",
        "a = numpy.array(a)\n",
        "\n",
        "print(round(numpy.linalg.det(a), 2))\n"
      ],
      "metadata": {
        "id": "Vl7XwjvgmNaz"
      },
      "execution_count": null,
      "outputs": []
    },
    {
      "cell_type": "markdown",
      "source": [
        "#String Validators\n"
      ],
      "metadata": {
        "id": "WT4dSnBomROU"
      }
    },
    {
      "cell_type": "code",
      "source": [
        "# Input della stringa\n",
        "s = input()\n",
        "\n",
        "print(any(c.isalnum() for c in s))\n",
        "print(any(c.isalpha() for c in s))\n",
        "print(any(c.isdigit() for c in s))\n",
        "print(any(c.islower() for c in s))\n",
        "print(any(c.isupper() for c in s))"
      ],
      "metadata": {
        "id": "ls7-hkBZmQBf"
      },
      "execution_count": null,
      "outputs": []
    },
    {
      "cell_type": "markdown",
      "source": [
        "#Text Alignment\n"
      ],
      "metadata": {
        "id": "XQy1y9JHpPzF"
      }
    },
    {
      "cell_type": "code",
      "source": [
        "\n",
        "\n",
        "thickness = int(input())\n",
        "c = 'H'\n",
        "\n",
        "# Top cone\n",
        "for i in range(thickness):\n",
        "    print((c*i).rjust(thickness-1) + c + (c*i).ljust(thickness-1))\n",
        "\n",
        "# Top pillars\n",
        "for i in range(thickness+1):\n",
        "    print((c*thickness).center(thickness*2) + (c*thickness).center(thickness*6))\n",
        "\n",
        "# Middle section\n",
        "for i in range((thickness+1)//2):\n",
        "    print((c*thickness*5).center(thickness*6))\n",
        "\n",
        "# Bottom pillars\n",
        "for i in range(thickness+1):\n",
        "    print((c*thickness).center(thickness*2) + (c*thickness).center(thickness*6))\n",
        "\n",
        "# Bottom cone\n",
        "for i in range(thickness):\n",
        "    print(((c*(thickness-i-1)).rjust(thickness) + c + (c*(thickness-i-1)).ljust(thickness)).rjust(thickness*6))\n",
        "\n",
        "\n"
      ],
      "metadata": {
        "id": "a2tst9T-pQnQ"
      },
      "execution_count": null,
      "outputs": []
    },
    {
      "cell_type": "markdown",
      "source": [
        "#Text Wrap\n"
      ],
      "metadata": {
        "id": "Rr9R-NJNpScF"
      }
    },
    {
      "cell_type": "code",
      "source": [
        "def wrap(string, max_width):\n",
        "    return textwrap.fill(string, max_width)\n"
      ],
      "metadata": {
        "id": "mtaIQQXIpV1S"
      },
      "execution_count": null,
      "outputs": []
    },
    {
      "cell_type": "markdown",
      "source": [
        "#Designer Door Mat\n"
      ],
      "metadata": {
        "id": "mI98jDOCpYiN"
      }
    },
    {
      "cell_type": "code",
      "source": [
        "# Enter your code here. Read input from STDIN. Print output to STDOUT\n",
        "def print_design(N, M):\n",
        "\n",
        "    for i in range(1, N, 2):\n",
        "        print(('.|.' * i).center(M, '-'))\n",
        "\n",
        "\n",
        "    print('WELCOME'.center(M, '-'))\n",
        "\n",
        "\n",
        "    for i in range(N-2, 0, -2):\n",
        "        print(('.|.' * i).center(M, '-'))\n",
        "\n",
        "if __name__ == '__main__':\n",
        "    N, M = map(int, input().split())\n",
        "    print_design(N, M)\n"
      ],
      "metadata": {
        "id": "3Yfr1DM3phLW"
      },
      "execution_count": null,
      "outputs": []
    },
    {
      "cell_type": "markdown",
      "source": [
        "#String Formatting\n"
      ],
      "metadata": {
        "id": "iAaVhjIfph0u"
      }
    },
    {
      "cell_type": "code",
      "source": [
        "\n",
        "def print_formatted(number):\n",
        "\n",
        "    width = len(bin(number)) - 2\n",
        "\n",
        "    for i in range(1, number + 1):\n",
        "        # Print the values in the specified format\n",
        "        print(f\"{i:>{width}} {oct(i)[2:]:>{width}} {hex(i)[2:].upper():>{width}} {bin(i)[2:]:>{width}}\")\n",
        "\n",
        "\n",
        "\n",
        "\n"
      ],
      "metadata": {
        "id": "5SGxX2tVsDsA"
      },
      "execution_count": null,
      "outputs": []
    },
    {
      "cell_type": "markdown",
      "source": [
        "#Alphabet Rangoli\n"
      ],
      "metadata": {
        "id": "4TBm8IJvsE8-"
      }
    },
    {
      "cell_type": "code",
      "source": [
        "def print_rangoli(n):\n",
        "    a=[chr(i) for i in range(97,123)]\n",
        "    t=1\n",
        "    l=[]\n",
        "    ch=a[n-t]\n",
        "    for i in range(1,n):\n",
        "        print(\"-\".join(ch).center(1+4*(n-1),\"-\"))\n",
        "        l.append(\"-\".join(ch).center(1+4*(n-1),\"-\"))\n",
        "        ch=ch[:i]+a[n-t-1]+ch[-i:]\n",
        "        t+=1\n",
        "    print(\"-\".join(ch).center(1+4*(n-1),\"-\"))\n",
        "    for i in l[::-1]:\n",
        "        print(i)\n",
        "\n",
        "\n",
        "\n"
      ],
      "metadata": {
        "id": "Z0-IEARvsI6q"
      },
      "execution_count": null,
      "outputs": []
    },
    {
      "cell_type": "markdown",
      "source": [
        "#Capitalize!\n"
      ],
      "metadata": {
        "id": "h_xcPhTusK2C"
      }
    },
    {
      "cell_type": "code",
      "source": [
        "\n",
        "\n",
        "#!/bin/python3\n",
        "\n",
        "\n",
        "def solve(s):\n",
        "    # Split the input string by spaces, keeping the spacing intact\n",
        "    words = s.split(' ')\n",
        "    # Capitalize the first letter of each word\n",
        "    capitalized_words = [word.capitalize() for word in words]\n",
        "    # Join the words back together with spaces\n",
        "    return ' '.join(capitalized_words)\n",
        "\n",
        "\n"
      ],
      "metadata": {
        "id": "ak9kouwVsROK"
      },
      "execution_count": null,
      "outputs": []
    },
    {
      "cell_type": "markdown",
      "source": [
        "#The Minion Game\n"
      ],
      "metadata": {
        "id": "z0pZQJwbsSvR"
      }
    },
    {
      "cell_type": "code",
      "source": [
        "def minion_game(string):\n",
        "    stuart = 0\n",
        "    kevin = 0\n",
        "    length = len(string)\n",
        "\n",
        "    for position, letter in enumerate(string):\n",
        "        if letter in 'AEIOU':\n",
        "            kevin += length - position  # Kevin scores for substrings starting with vowels\n",
        "        else:\n",
        "            stuart += length - position  # Stuart scores for substrings starting with consonants\n",
        "\n",
        "    if stuart > kevin:\n",
        "        print(f'Stuart {stuart}')\n",
        "    elif stuart < kevin:\n",
        "        print(f'Kevin {kevin}')\n",
        "    else:\n",
        "        print('Draw')\n",
        "\n",
        "\n"
      ],
      "metadata": {
        "id": "9qVocGprsXvE"
      },
      "execution_count": null,
      "outputs": []
    },
    {
      "cell_type": "markdown",
      "source": [
        "#Merge the Tools!\n"
      ],
      "metadata": {
        "id": "x9SxymAOsZEh"
      }
    },
    {
      "cell_type": "code",
      "source": [
        "def merge_the_tools(s, k):\n",
        "    # Loop through the string in chunks of size k\n",
        "    for i in range(0, len(s), k):\n",
        "        # Get the current substring of size k\n",
        "        substring = s[i:i+k]\n",
        "        # Create a list to keep track of unique characters\n",
        "        unique_chars = []\n",
        "        for char in substring:\n",
        "            if char not in unique_chars:  # Check if character is not already in the list\n",
        "                unique_chars.append(char)  # Add unique character\n",
        "        # Join the list into a string and print it\n",
        "        print(''.join(unique_chars))\n",
        "\n",
        "\n",
        "\n",
        "\n",
        "\n"
      ],
      "metadata": {
        "id": "yzxag3nIsc16"
      },
      "execution_count": null,
      "outputs": []
    },
    {
      "cell_type": "markdown",
      "source": [
        "#Set .symmetric_difference() Operation\n"
      ],
      "metadata": {
        "id": "goDZCCjOsd4i"
      }
    },
    {
      "cell_type": "code",
      "source": [
        "# Enter your code here. Read input from STDIN. Print output to STDOUT\n",
        "n = int(input())\n",
        "english = set(map(int, input().split()))\n",
        "b = int(input())\n",
        "french = set(map(int, input().split()))\n",
        "print(len(english.symmetric_difference(french)))\n"
      ],
      "metadata": {
        "id": "eokLYe2Esezq"
      },
      "execution_count": null,
      "outputs": []
    },
    {
      "cell_type": "markdown",
      "source": [
        "#Set Mutations\n"
      ],
      "metadata": {
        "id": "4n9VlqX-slg4"
      }
    },
    {
      "cell_type": "code",
      "source": [
        "\n",
        "if __name__ == '__main__':\n",
        "\n",
        "    n = int(input())\n",
        "\n",
        "    initial_set = set(map(int, input().split()))\n",
        "\n",
        "\n",
        "    m = int(input())\n",
        "\n",
        "\n",
        "    for _ in range(m):\n",
        "\n",
        "        operation, _ = input().split()\n",
        "\n",
        "        other_set = set(map(int, input().split()))\n",
        "\n",
        "\n",
        "        if operation == 'update':\n",
        "            initial_set.update(other_set)\n",
        "        elif operation == 'intersection_update':\n",
        "            initial_set.intersection_update(other_set)\n",
        "        elif operation == 'difference_update':\n",
        "            initial_set.difference_update(other_set)\n",
        "        elif operation == 'symmetric_difference_update':\n",
        "            initial_set.symmetric_difference_update(other_set)\n",
        "\n",
        "\n",
        "    print(sum(initial_set))\n"
      ],
      "metadata": {
        "id": "f8doZiEesrFH"
      },
      "execution_count": null,
      "outputs": []
    },
    {
      "cell_type": "markdown",
      "source": [
        "#The Captain's Room\n"
      ],
      "metadata": {
        "id": "SJQZAnp-s1DX"
      }
    },
    {
      "cell_type": "code",
      "source": [
        "# Enter your code here. Read input from STDIN. Print output to STDOUT\n",
        "def find_captains_room(k, room_numbers):\n",
        "    room_count = {}\n",
        "\n",
        "\n",
        "    for room in room_numbers:\n",
        "        if room in room_count:\n",
        "            room_count[room] += 1\n",
        "        else:\n",
        "            room_count[room] = 1\n",
        "\n",
        "\n",
        "    for room, count in room_count.items():\n",
        "        if count == 1:\n",
        "            return room\n",
        "\n",
        "if __name__ == '__main__':\n",
        "    k = int(input().strip())\n",
        "    room_numbers = list(map(int, input().strip().split()))\n",
        "\n",
        "    captain_room = find_captains_room(k, room_numbers)\n",
        "    print(captain_room)\n"
      ],
      "metadata": {
        "id": "6Xwm0B9fs529"
      },
      "execution_count": null,
      "outputs": []
    },
    {
      "cell_type": "markdown",
      "source": [
        "#Check Subset\n"
      ],
      "metadata": {
        "id": "Z0t_uymls9a0"
      }
    },
    {
      "cell_type": "code",
      "source": [
        "# Enter your code here. Read input from STDIN. Print output to STDOUT\n",
        "def check_subset(test_cases):\n",
        "    results = []\n",
        "    for _ in range(test_cases):\n",
        "\n",
        "        input()\n",
        "\n",
        "        set_a = set(map(int, input().strip().split()))\n",
        "\n",
        "\n",
        "        input()\n",
        "        set_b = set(map(int, input().strip().split()))\n",
        "\n",
        "\n",
        "        results.append(set_a.issubset(set_b))\n",
        "\n",
        "    return results\n",
        "\n",
        "if __name__ == '__main__':\n",
        "    test_cases = int(input().strip())\n",
        "    results = check_subset(test_cases)\n",
        "\n",
        "    for result in results:\n",
        "        print(result)\n"
      ],
      "metadata": {
        "id": "GgyRoxrRs-cY"
      },
      "execution_count": null,
      "outputs": []
    },
    {
      "cell_type": "markdown",
      "source": [
        "#Check Strict Superset\n"
      ],
      "metadata": {
        "id": "bDIhypQmtHb7"
      }
    },
    {
      "cell_type": "code",
      "source": [
        "\n",
        "l = set(map(int, input().split()))\n",
        "\n",
        "\n",
        "n = int(input())\n",
        "ss = True\n",
        "\n",
        "for i in range(n):\n",
        "\n",
        "    s = set(map(int, input().split()))\n",
        "\n",
        "\n",
        "    if not (l.issuperset(s) and len(l) > len(s)):\n",
        "        ss = False\n",
        "        break\n",
        "if ss:\n",
        "    print(\"True\")\n",
        "else:\n",
        "    print(\"False\")\n"
      ],
      "metadata": {
        "id": "IFsK5_KOtKq_"
      },
      "execution_count": null,
      "outputs": []
    },
    {
      "cell_type": "markdown",
      "source": [
        "#Set .difference() Operation\n"
      ],
      "metadata": {
        "id": "SOEaEWyhaYnl"
      }
    },
    {
      "cell_type": "code",
      "source": [
        "# Enter your code here. Read input from STDIN. Print output to STDOUT\n",
        "# Read the number of English subscribers (not used directly)\n",
        "num_english = int(input())\n",
        "\n",
        "\n",
        "english_subscribers = set(map(int, input().split()))\n",
        "\n",
        "\n",
        "num_french = int(input())\n",
        "\n",
        "french_subscribers = set(map(int, input().split()))\n",
        "\n",
        "only_english = english_subscribers.difference(french_subscribers)\n",
        "\n",
        "\n",
        "print(len(only_english))\n"
      ],
      "metadata": {
        "id": "3MOzRxurafHO"
      },
      "execution_count": null,
      "outputs": []
    },
    {
      "cell_type": "markdown",
      "source": [
        "#Introduction to Sets\n"
      ],
      "metadata": {
        "id": "BT4CInu1ahFw"
      }
    },
    {
      "cell_type": "code",
      "source": [
        "def average(arr):\n",
        "    # Create a set from the array to get distinct heights\n",
        "    distinct_heights = set(arr)\n",
        "\n",
        "    # Calculate the average of the distinct heights\n",
        "    avg = sum(distinct_heights) / len(distinct_heights)\n",
        "\n",
        "    # Return the average rounded to three decimal places\n",
        "    return round(avg, 3)\n",
        "\n",
        "# Read the input\n",
        "\n",
        "    n = int(input())  # Size of the array\n",
        "    arr = list(map(int, input().split()))  # Heights of the plants\n",
        "\n",
        "\n",
        "    result = average(arr)\n",
        "    print(result)\n",
        "\n",
        "\n"
      ],
      "metadata": {
        "id": "x3WZM_i9ak4O"
      },
      "execution_count": null,
      "outputs": []
    },
    {
      "cell_type": "markdown",
      "source": [
        "#Symmetric Difference\n"
      ],
      "metadata": {
        "id": "NXEiuCaianjE"
      }
    },
    {
      "cell_type": "code",
      "source": [
        "\n",
        "m = int(input())\n",
        "\n",
        "\n",
        "a = set(map(int, input().split()[:m]))\n",
        "\n",
        "n = int(input())\n",
        "\n",
        "\n",
        "b = set(map(int, input().split()[:n]))\n",
        "\n",
        "\n",
        "result = a ^ b\n",
        "\n",
        "\n",
        "for item in sorted(result):\n",
        "    print(item)\n"
      ],
      "metadata": {
        "id": "23ptPwdUatkf"
      },
      "execution_count": null,
      "outputs": []
    },
    {
      "cell_type": "markdown",
      "source": [
        "#sWAP cASE\n"
      ],
      "metadata": {
        "id": "PX06t-aLauXO"
      }
    },
    {
      "cell_type": "code",
      "source": [
        "def swap_case(s):\n",
        "    new_string = \"\"  # Inizializziamo new_string\n",
        "    for i in s:\n",
        "        if i.isupper():\n",
        "            new_string += i.lower()\n",
        "        elif i.islower():\n",
        "            new_string += i.upper()\n",
        "        else:\n",
        "            new_string += i\n",
        "\n",
        "    return new_string\n",
        "\n"
      ],
      "metadata": {
        "id": "DiXSLfj9a2u6"
      },
      "execution_count": null,
      "outputs": []
    },
    {
      "cell_type": "markdown",
      "source": [
        "#String Split and Join\n"
      ],
      "metadata": {
        "id": "uTeEd40Ba3wU"
      }
    },
    {
      "cell_type": "code",
      "source": [
        "\n",
        "\n",
        "def split_and_join(line):\n",
        "    return \"-\".join(line.split(\" \"))\n",
        "\n",
        "\n",
        "if __name__ == '__main__':\n",
        "    line = input()\n",
        "    result = split_and_join(line)\n",
        "    print(result)\n",
        "\n",
        "\n"
      ],
      "metadata": {
        "id": "BIe0xyMaa77g"
      },
      "execution_count": null,
      "outputs": []
    },
    {
      "cell_type": "markdown",
      "source": [
        "#What's Your Name?\n"
      ],
      "metadata": {
        "id": "4yPVe5bCa9t1"
      }
    },
    {
      "cell_type": "code",
      "source": [
        "def print_full_name(nome, cognome):\n",
        "     print(f\"Hello {nome} {cognome}! You just delved into python.\")\n",
        ""
      ],
      "metadata": {
        "id": "YSoRLgMUbDNn"
      },
      "execution_count": null,
      "outputs": []
    },
    {
      "cell_type": "markdown",
      "source": [
        "#Mutations\n"
      ],
      "metadata": {
        "id": "rGwIr0oDbGuW"
      }
    },
    {
      "cell_type": "code",
      "source": [
        "def mutate_string(string, position, character):\n",
        "\n",
        "    return string[:position] + character + string[position+1:]\n",
        "\n"
      ],
      "metadata": {
        "id": "cqg_EXUubLDt"
      },
      "execution_count": null,
      "outputs": []
    },
    {
      "cell_type": "markdown",
      "source": [
        "#Find a string\n"
      ],
      "metadata": {
        "id": "0GxIZ042bMOa"
      }
    },
    {
      "cell_type": "code",
      "source": [
        "def count_substring(string, sub_string):\n",
        "    count = 0\n",
        "    for i in range(len(string) - len(sub_string) + 1):\n",
        "        if string[i:i+len(sub_string)] == sub_string:\n",
        "            count += 1\n",
        "    return count\n",
        "\n"
      ],
      "metadata": {
        "id": "DRkdDP0hbRlc"
      },
      "execution_count": null,
      "outputs": []
    },
    {
      "cell_type": "markdown",
      "source": [
        "#No Idea!\n"
      ],
      "metadata": {
        "id": "xlPVOiHsbSkq"
      }
    },
    {
      "cell_type": "code",
      "source": [
        "# Enter your code here. Read input from STDIN. Print output to STDOUT\n",
        "N, M = map(int, input().split())\n",
        "\n",
        "elements = list(map(int, input().split()))\n",
        "\n",
        "A = set(map(int, input().split()[:N]))\n",
        "\n",
        "B = set(map(int, input().split()[:M]))\n",
        "\n",
        "happiness = 0\n",
        "\n",
        "for item in elements:\n",
        "    if item in A:\n",
        "        happiness += 1\n",
        "    elif item in B:\n",
        "        happiness -= 1\n",
        "\n",
        "print(happiness)\n",
        "\n"
      ],
      "metadata": {
        "id": "0LhbF6gvbVq6"
      },
      "execution_count": null,
      "outputs": []
    },
    {
      "cell_type": "markdown",
      "source": [
        "#Set .add()\n"
      ],
      "metadata": {
        "id": "p_X7QdP-bYcv"
      }
    },
    {
      "cell_type": "code",
      "source": [
        "# Enter your code here. Read input from STDIN. Print output to STDOUT\n",
        "n = int(input())\n",
        "\n",
        "demo_list = []\n",
        "\n",
        "for _ in range(n):\n",
        "    demo_list.append(input().strip())\n",
        "\n",
        "s = set(demo_list)\n",
        "\n",
        "s = len(s)\n",
        "print(s)\n"
      ],
      "metadata": {
        "id": "prP-Q7lEbdx_"
      },
      "execution_count": null,
      "outputs": []
    },
    {
      "cell_type": "markdown",
      "source": [
        "#Set .discard(), .remove() & .pop()\n"
      ],
      "metadata": {
        "id": "EFUwz6zibmnh"
      }
    },
    {
      "cell_type": "code",
      "source": [
        "n = int(input())\n",
        "s = set(map(int, input().split()))\n",
        "N = int(input())\n",
        "for i in range(N):\n",
        "    command = list(input().split())\n",
        "    match command[0]:\n",
        "        case 'pop':\n",
        "            s.pop()\n",
        "        case 'remove':\n",
        "            if int(command[1]) in s:\n",
        "                s.remove(int(command[1]))\n",
        "        case 'discard':\n",
        "            s.discard(int(command[1]))\n",
        "\n",
        "print(sum(s))\n"
      ],
      "metadata": {
        "id": "qTrpR4YfboGz"
      },
      "execution_count": null,
      "outputs": []
    },
    {
      "cell_type": "markdown",
      "source": [
        "#Set .intersection() Operation\n"
      ],
      "metadata": {
        "id": "83kc7FIHbpof"
      }
    },
    {
      "cell_type": "code",
      "source": [
        "# Enter your code here. Read input from STDIN. Print output to STDOUT\n",
        "n = int(input())\n",
        "A = set(input().split())\n",
        "b = int(input())\n",
        "B = set(input().split())\n",
        "print(len(A&B))\n"
      ],
      "metadata": {
        "id": "rOWh0Bv3br-L"
      },
      "execution_count": null,
      "outputs": []
    },
    {
      "cell_type": "markdown",
      "source": [
        "#Calendar Module\n"
      ],
      "metadata": {
        "id": "Fc14uUzzbxmo"
      }
    },
    {
      "cell_type": "code",
      "source": [
        "\n",
        "import calendar\n",
        "\n",
        "def find_the_day(date):\n",
        "\n",
        "    month, day, year = map(int, date.split())\n",
        "\n",
        "    day_of_week = calendar.weekday(year, month, day)\n",
        "\n",
        "\n",
        "    days = ['MONDAY', 'TUESDAY', 'WEDNESDAY', 'THURSDAY', 'FRIDAY', 'SATURDAY', 'SUNDAY']\n",
        "\n",
        "\n",
        "    return days[day_of_week]\n",
        "\n",
        "if __name__ == \"__main__\":\n",
        "    date_input = input().strip()\n",
        "    print(find_the_day(date_input))\n",
        "\n"
      ],
      "metadata": {
        "id": "supi34kIb1eC"
      },
      "execution_count": null,
      "outputs": []
    },
    {
      "cell_type": "markdown",
      "source": [
        "#Time Delta\n"
      ],
      "metadata": {
        "id": "Uai4kCSBb3Hx"
      }
    },
    {
      "cell_type": "code",
      "source": [
        "import os\n",
        "from datetime import datetime\n",
        "\n",
        "def time_delta(t1, t2):\n",
        "    format = '%a %d %b %Y %H:%M:%S %z'\n",
        "    dt1 = datetime.strptime(t1, format)\n",
        "    dt2 = datetime.strptime(t2, format)\n",
        "    return str(abs(int((dt1 - dt2).total_seconds())))\n",
        "\n",
        "if __name__ == '__main__':\n",
        "    fptr = open(os.environ['OUTPUT_PATH'], 'w')\n",
        "    t = int(input())\n",
        "    for _ in range(t):\n",
        "        t1 = input()\n",
        "        t2 = input()\n",
        "        delta = time_delta(t1, t2)\n",
        "        fptr.write(delta + '\\n')\n",
        "    fptr.close()\n",
        "\n"
      ],
      "metadata": {
        "id": "3MoTNbCCb4Rs"
      },
      "execution_count": null,
      "outputs": []
    },
    {
      "cell_type": "markdown",
      "source": [
        "#Exceptions\n"
      ],
      "metadata": {
        "id": "bSNKAdZLb-RC"
      }
    },
    {
      "cell_type": "code",
      "source": [
        "# Enter your code here. Read input from STDIN. Print output to STDOUT\n",
        "n=int(input())\n",
        "for i in range(n):\n",
        "    try:\n",
        "        a,b= map(int, input().split())\n",
        "        print(a//b)\n",
        "    except ValueError as e:\n",
        "        print(\"Error Code:\",e)\n",
        "    except ZeroDivisionError as e:\n",
        "        print(\"Error Code:\",e)\n"
      ],
      "metadata": {
        "id": "v-tirfQ-cA1o"
      },
      "execution_count": null,
      "outputs": []
    },
    {
      "cell_type": "markdown",
      "source": [
        "#Zipped!"
      ],
      "metadata": {
        "id": "QvzCoYKtcCL1"
      }
    },
    {
      "cell_type": "code",
      "source": [
        "# Enter your code here. Read input from STDIN. Print output to STDOUT\n",
        "n, s =(input()).split()\n",
        "res=[]\n",
        "for _ in range(int(s)):\n",
        "    x=list(map(float, input().split()))\n",
        "    res.append(x)\n",
        "tup=(list(zip(*res)))\n",
        "for i in tup:\n",
        "    print(sum(i)/float(s))\n"
      ],
      "metadata": {
        "id": "ma4zHyewcHij"
      },
      "execution_count": null,
      "outputs": []
    },
    {
      "cell_type": "markdown",
      "source": [
        "#Athlete Sort\n"
      ],
      "metadata": {
        "id": "3BOiuKqhcLF3"
      }
    },
    {
      "cell_type": "code",
      "source": [
        "#!/bin/python3\n",
        "\n",
        "if __name__ == '__main__':\n",
        "    n,m = map(int,input().split())\n",
        "    arr = [tuple(map(int, input().rstrip().split())) for _ in range(n)]\n",
        "    k = int(input())\n",
        "    [print(*s) for s in sorted(arr,key = lambda x : x[k] )]\n"
      ],
      "metadata": {
        "id": "PYqZn27rcNvY"
      },
      "execution_count": null,
      "outputs": []
    },
    {
      "cell_type": "markdown",
      "source": [
        "#ginortS\n"
      ],
      "metadata": {
        "id": "3c5MGwsScPtv"
      }
    },
    {
      "cell_type": "code",
      "source": [
        "# Enter your code here. Read input from STDIN. Print output to STDOUT\n",
        "string = input()\n",
        "sorted_lowercase = ''\n",
        "sorted_uppercase = ''\n",
        "sorted_odd = ''\n",
        "sorted_even = ''\n",
        "\n",
        "string = sorted(string)\n",
        "for char in string:\n",
        "    if char.islower():\n",
        "        sorted_lowercase += char\n",
        "    elif char.isupper():\n",
        "        sorted_uppercase += char\n",
        "\n",
        "    if char.isdigit() and int(char) % 2 is not 0:\n",
        "        sorted_odd += char\n",
        "    elif char.isdigit() and int(char) % 2 == 0:\n",
        "        sorted_even += char\n",
        "\n",
        "\n",
        "print(sorted_lowercase + sorted_uppercase + sorted_odd + sorted_even)\n"
      ],
      "metadata": {
        "id": "K_BTLfgqcS_W"
      },
      "execution_count": null,
      "outputs": []
    },
    {
      "cell_type": "markdown",
      "source": [
        "#Map and Lambda Function\n"
      ],
      "metadata": {
        "id": "FbrEqVNTcUIk"
      }
    },
    {
      "cell_type": "code",
      "source": [
        "cube = lambda x:x**3\n",
        "\n",
        "def fibonacci(n):\n",
        "    arr = []\n",
        "    for i in range(n):\n",
        "        if i == 0 or i == 1:\n",
        "            arr.append(i)\n",
        "        else:\n",
        "            x = arr[i-1] + arr[i - 2]\n",
        "            arr.append(x)\n",
        "    return arr\n",
        "\n",
        "\n"
      ],
      "metadata": {
        "id": "Zp3lBBUycYe6"
      },
      "execution_count": null,
      "outputs": []
    },
    {
      "cell_type": "markdown",
      "source": [
        "#Detect Floating Point Number\n"
      ],
      "metadata": {
        "id": "7pHeC9B6cZTR"
      }
    },
    {
      "cell_type": "code",
      "source": [
        "# Enter your code here. Read input from STDIN. Print output to STDOUT\n",
        "T = int(input())\n",
        "\n",
        "for k in range (T) :\n",
        "    x = 1\n",
        "    s = input()\n",
        "\n",
        "    try :\n",
        "        y = float (s)\n",
        "        if s.count(\".\") == 0 :\n",
        "            x *= 0\n",
        "\n",
        "    except :\n",
        "        x *= 0\n",
        "\n",
        "    print(bool(x))\n"
      ],
      "metadata": {
        "id": "1dved2QfcZyi"
      },
      "execution_count": null,
      "outputs": []
    },
    {
      "cell_type": "markdown",
      "source": [
        "#Re.split()\n"
      ],
      "metadata": {
        "id": "3VsaiVdGckad"
      }
    },
    {
      "cell_type": "code",
      "source": [
        "regex_pattern = r\"\\D+\"    # Do not delete 'r'.\n",
        "\n"
      ],
      "metadata": {
        "id": "BcwOFR82cvPJ"
      },
      "execution_count": null,
      "outputs": []
    },
    {
      "cell_type": "markdown",
      "source": [
        "#Group(), Groups() & Groupdict()\n"
      ],
      "metadata": {
        "id": "6xEYJVyWcvw_"
      }
    },
    {
      "cell_type": "code",
      "source": [
        "# Enter your code here. Read input from STDIN. Print output to STDOUT\n",
        "import re\n",
        "s = input()\n",
        "rx = re.compile(r\"([a-zA-Z0-9])(?=\\1)\")\n",
        "print(rx.search(s)[0] if rx.search(s) else -1)\n"
      ],
      "metadata": {
        "id": "DuFWIc0Sc1Lp"
      },
      "execution_count": null,
      "outputs": []
    },
    {
      "cell_type": "markdown",
      "source": [
        "#Re.findall() & Re.finditer()\n"
      ],
      "metadata": {
        "id": "UiDxP-tgc2mj"
      }
    },
    {
      "cell_type": "code",
      "source": [
        "# Enter your code here. Read input from STDIN. Print output to STDOUT\n",
        "import re\n",
        "s=input()\n",
        "pattern=r'([^aeiouAEIOU|\\s|\\+|\\-]{1,})([aeiouAEIOU]{2,})([^aeiouAEIOU|\\s|\\+|\\-]{1,}).*'\n",
        "pattern2='([aeiouAEIOU]{2,})'\n",
        "findall=re.findall(pattern,s)\n",
        "if not findall:\n",
        "    print(\"-1\")\n",
        "else:\n",
        "    while findall:\n",
        "        finditer=re.finditer(pattern,s)\n",
        "\n",
        "        for i in finditer:\n",
        "            print(i.groups()[1])\n",
        "            x=re.search(pattern2,s)\n",
        "            s=s[x.end():]\n",
        "            findall=re.findall(pattern,s)\n"
      ],
      "metadata": {
        "id": "d6CH7twAc7l1"
      },
      "execution_count": null,
      "outputs": []
    },
    {
      "cell_type": "markdown",
      "source": [
        "# Re.start() & Re.end()\n"
      ],
      "metadata": {
        "id": "vGs46g20c94t"
      }
    },
    {
      "cell_type": "code",
      "source": [
        "# Enter your code here. Read input from STDIN. Print output to STDOUt\n",
        "import re\n",
        "s,k = [input() for _ in range(2)]\n",
        "p = r'(?=(%s))' % re.escape(k)\n",
        "print(\"\\n\".join(\"(%s, %s)\"%(match.start(1),match.end(1)-1) for match in re.finditer(p, s)) or \"(-1, -1)\")\n"
      ],
      "metadata": {
        "id": "19-eqQbidDm2"
      },
      "execution_count": null,
      "outputs": []
    },
    {
      "cell_type": "markdown",
      "source": [
        "#Regex Substitution\n"
      ],
      "metadata": {
        "id": "svPzrpgSdexr"
      }
    },
    {
      "cell_type": "code",
      "source": [
        "# Enter your code here. Read input from STDIN. Print output to STDOUT\n",
        "import re\n",
        "\n",
        "n = int(input())\n",
        "for _ in range(n):\n",
        "    print(re.sub(r\"(?<= )\\|\\|(?= )\", \"or\", re.sub(r\"(?<= )&&(?= )\", \"and\", input())))\n"
      ],
      "metadata": {
        "id": "mnifXFr2diGK"
      },
      "execution_count": null,
      "outputs": []
    },
    {
      "cell_type": "markdown",
      "source": [
        "#Validating Roman Numerals\n"
      ],
      "metadata": {
        "id": "_1CCId--drkJ"
      }
    },
    {
      "cell_type": "code",
      "source": [
        "regex_pattern = r\"^(?!.*(I{4}|V{2,}|X{4}|L{2,}|C{4}|D{2,}|M{4})).*$\"\n",
        "\n"
      ],
      "metadata": {
        "id": "L_fcmYbCdsYx"
      },
      "execution_count": null,
      "outputs": []
    },
    {
      "cell_type": "markdown",
      "source": [
        "#Validating phone numbers\n"
      ],
      "metadata": {
        "id": "7jlnKQQKeEXH"
      }
    },
    {
      "cell_type": "code",
      "source": [
        "# Enter your code here. Read input from STDIN. Print output to STDOUT\n",
        "import re\n",
        "\n",
        "N = int(input())\n",
        "for _ in range(N):\n",
        "    phone_number = input().strip()\n",
        "    if re.match(r'^[789]\\d{9}$', phone_number):\n",
        "        print(\"YES\")\n",
        "    else:\n",
        "        print(\"NO\")\n"
      ],
      "metadata": {
        "id": "uSowgC1ReLfY"
      },
      "execution_count": null,
      "outputs": []
    },
    {
      "cell_type": "markdown",
      "source": [
        "#Validating and Parsing Email Addresses\n"
      ],
      "metadata": {
        "id": "Vks_sZISeORf"
      }
    },
    {
      "cell_type": "code",
      "source": [
        "# Enter your code here. Read input from STDIN. Print output to STDOUT\n",
        "import re\n",
        "p =  r\"^[a-zA-Z]+\\s<[a-zA-Z][\\w\\.\\-]*@[a-zA-Z]+\\.[a-zA-Z]{1,3}>$\"\n",
        "[print(mail.group()) for mail in [re.match(p,input()) for _ in range(int(input()))] if mail]\n"
      ],
      "metadata": {
        "id": "9EGjEs4EeTIL"
      },
      "execution_count": null,
      "outputs": []
    },
    {
      "cell_type": "markdown",
      "source": [
        "#Hex Color Code\n"
      ],
      "metadata": {
        "id": "5LVEIxrZeUlq"
      }
    },
    {
      "cell_type": "code",
      "source": [
        "# Enter your code here. Read input from STDIN. Print output to STDOUT\n",
        "import re\n",
        "css = [input().strip() for _ in range(int(input()))]\n",
        "colors = [re.findall(r'#([\\dA-F]{6}|[\\dA-F]{3})(?=.*;)',line,re.IGNORECASE) for line in css]\n",
        "[print(f\"#{hx}\") for group in colors for hx in group]\n"
      ],
      "metadata": {
        "id": "TbNy6t4qeYst"
      },
      "execution_count": null,
      "outputs": []
    },
    {
      "cell_type": "markdown",
      "source": [
        "#HTML Parser - Part 1\n"
      ],
      "metadata": {
        "id": "D6FgB2WOeaMQ"
      }
    },
    {
      "cell_type": "code",
      "source": [
        "from html.parser import HTMLParser\n",
        "\n",
        "class MyHTMLParser(HTMLParser):\n",
        "    def handle_starttag(self, tag, attrs):\n",
        "        print(f'Start : {tag}')\n",
        "        for attr in attrs:\n",
        "            print(f'-> {attr[0]} > {attr[1] if attr[1] is not None else \"None\"}')\n",
        "\n",
        "    def handle_endtag(self, tag):\n",
        "        print(f'End   : {tag}')\n",
        "\n",
        "    def handle_startendtag(self, tag, attrs):\n",
        "        print(f'Empty : {tag}')\n",
        "        for attr in attrs:\n",
        "            print(f'-> {attr[0]} > {attr[1] if attr[1] is not None else \"None\"}')\n",
        "\n",
        "if __name__ == '__main__':\n",
        "    n = int(input())\n",
        "    parser = MyHTMLParser()\n",
        "    for _ in range(n):\n",
        "        line = input()\n",
        "        parser.feed(line)\n"
      ],
      "metadata": {
        "id": "q_qLTPYeee8b"
      },
      "execution_count": null,
      "outputs": []
    },
    {
      "cell_type": "markdown",
      "source": [
        "#HTML Parser - Part 2\n"
      ],
      "metadata": {
        "id": "I7gvtcpAeg9m"
      }
    },
    {
      "cell_type": "code",
      "source": [
        "from html.parser import HTMLParser\n",
        "\n",
        "class MyHTMLParser(HTMLParser):\n",
        "    def handle_comment(self, data: str) -> None:\n",
        "        if not len(data.splitlines()) == 1:\n",
        "            print('>>> Multi-line Comment')\n",
        "            for line in data.splitlines():\n",
        "                print(line)\n",
        "        else:\n",
        "            print('>>> Single-line Comment')\n",
        "            print(data)\n",
        "\n",
        "    def handle_data(self, data: str) -> None:\n",
        "        if not data == '\\n':\n",
        "            print('>>> Data')\n",
        "            for line in data.splitlines():\n",
        "                print(line)\n",
        "\n",
        "\n",
        "html = \"\"\n",
        "for i in range(int(input())):\n",
        "    html += input().rstrip()\n",
        "    html += '\\n'\n",
        "\n",
        "parser = MyHTMLParser()\n",
        "parser.feed(html)\n",
        "parser.close()\n"
      ],
      "metadata": {
        "id": "OqMc2g-bfEwO"
      },
      "execution_count": null,
      "outputs": []
    },
    {
      "cell_type": "markdown",
      "source": [
        "#Detect HTML Tags, Attributes and Attribute Values"
      ],
      "metadata": {
        "id": "3wOgCmvufM5U"
      }
    },
    {
      "cell_type": "code",
      "source": [
        "# Enter your code here. Read input from STDIN. Print output to STDOUT\n",
        "from html.parser import HTMLParser\n",
        "\n",
        "class MyHTMLParser(HTMLParser):\n",
        "    def handle_starttag(self, tag, attrs):\n",
        "        print(tag)\n",
        "        if attrs:\n",
        "            [print(f'-> {attr[0]} > {attr[1]}') for attr in attrs]\n",
        "    def handle_startendtag(self, tag, attrs):\n",
        "        print(tag)\n",
        "        if attrs:\n",
        "            [print(f'-> {attr[0]} > {attr[1]}') for attr in attrs]\n",
        "\n",
        "html = \"\"\n",
        "for _ in range(int(input())):\n",
        "    html += input().rstrip()\n",
        "    html += '\\n'\n",
        "\n",
        "parser = MyHTMLParser()\n",
        "parser.feed(html)\n",
        "parser.close()\n"
      ],
      "metadata": {
        "id": "nE5JxfgQfR-l"
      },
      "execution_count": null,
      "outputs": []
    },
    {
      "cell_type": "markdown",
      "source": [
        "#Validating UID\n"
      ],
      "metadata": {
        "id": "mjNxKiAbfVS1"
      }
    },
    {
      "cell_type": "code",
      "source": [
        "# Enter your code here. Read input from STDIN. Print output to STDOUT\n",
        "def is_valid_uid(uid):\n",
        "    if len(uid) != 10:\n",
        "        return False\n",
        "    upper_case = [ch for ch in uid if ch.isupper()]\n",
        "    digits = [ch for ch in uid if ch.isdigit()]\n",
        "    if len(upper_case) < 2 or len(digits) < 3:\n",
        "        return False\n",
        "    if not uid.isalnum():\n",
        "        return False\n",
        "    if len(set(uid)) != len(uid):\n",
        "        return False\n",
        "    return True\n",
        "\n",
        "n = int(input())\n",
        "for _ in range(n):\n",
        "    uid = input().strip()\n",
        "    if is_valid_uid(uid):\n",
        "        print(\"Valid\")\n",
        "    else:\n",
        "        print(\"Invalid\")\n",
        "\n"
      ],
      "metadata": {
        "id": "RAnJgWWFfd65"
      },
      "execution_count": null,
      "outputs": []
    },
    {
      "cell_type": "markdown",
      "source": [
        "#Validating Credit Card Numbers\n"
      ],
      "metadata": {
        "id": "c2kqhRo5fjtv"
      }
    },
    {
      "cell_type": "code",
      "source": [
        "# Enter your code here. Read input from STDIN. Print output to STDOUT\n",
        "import re\n",
        "\n",
        "def check_cb(cnum):\n",
        "    if not bool(re.match(r\"^[4,5,6]\",cnum)):return \"Invalid\"\n",
        "    if not bool(re.match(r\"^\\d{4}-\\d{4}-\\d{4}-\\d{4}$|^\\d{4}\\d{4}\\d{4}\\d{4}$\",cnum)):return \"Invalid\"\n",
        "    if bool(re.search(r'(.)\\1{3}',re.sub(r'\\D', '', cnum))):return \"Invalid\"\n",
        "    return \"Valid\"\n",
        "n = int(input())\n",
        "print(\"\\n\".join([check_cb(input()) for _ in range(n)]))\n"
      ],
      "metadata": {
        "id": "ai7LrOtYfkjo"
      },
      "execution_count": null,
      "outputs": []
    },
    {
      "cell_type": "markdown",
      "source": [
        "#Validating Postal Codes\n"
      ],
      "metadata": {
        "id": "BJLLPF8Jfl1Z"
      }
    },
    {
      "cell_type": "code",
      "source": [
        "regex_integer_in_range = r\"^\\d{6}$\"\t# Do not delete 'r'.\n",
        "regex_alternating_repetitive_digit_pair = r\"(\\d)(?=\\d\\1)\"\n",
        "# Do not delete 'r'.\n",
        "\n"
      ],
      "metadata": {
        "id": "Of8xmPjdfsFt"
      },
      "execution_count": null,
      "outputs": []
    },
    {
      "cell_type": "markdown",
      "source": [
        "#Matrix Script\n"
      ],
      "metadata": {
        "id": "ARCBJl7afvN7"
      }
    },
    {
      "cell_type": "code",
      "source": [
        "#!/bin/python3\n",
        "\n",
        "import math\n",
        "import os\n",
        "import random\n",
        "import re\n",
        "import sys\n",
        "\n",
        "first_multiple_input = input().rstrip().split()\n",
        "n = int(first_multiple_input[0])\n",
        "m = int(first_multiple_input[1])\n",
        "\n",
        "matrix = []\n",
        "for _ in range(n):\n",
        "    matrix_item = input()\n",
        "    matrix.append(matrix_item)\n",
        "\n",
        "decoded_string = ''.join([matrix[row][col] for col in range(m) for row in range(n)])\n",
        "final_output = re.sub(r'(?<=\\w)([^\\w]+)(?=\\w)', ' ', decoded_string)\n",
        "print(final_output)\n",
        "\n"
      ],
      "metadata": {
        "id": "237cXHkzg-31"
      },
      "execution_count": null,
      "outputs": []
    },
    {
      "cell_type": "markdown",
      "source": [
        "XML 1 - Find the Score\n"
      ],
      "metadata": {
        "id": "DyJTQoVLhJbF"
      }
    },
    {
      "cell_type": "code",
      "source": [
        "\n",
        "\n",
        "def get_attr_number(node):\n",
        "    return len(node.attrib) + sum(get_attr_number(child) for child in node)\n",
        "\n"
      ],
      "metadata": {
        "id": "YBxvpW05hPfJ"
      },
      "execution_count": null,
      "outputs": []
    },
    {
      "cell_type": "markdown",
      "source": [
        "#XML2 - Find the Maximum Depth\n"
      ],
      "metadata": {
        "id": "aphqhYyDhSXV"
      }
    },
    {
      "cell_type": "code",
      "source": [
        "maxdepth = 0\n",
        "def depth(elem, level):\n",
        "    global maxdepth\n",
        "    level = level + 1\n",
        "    for e in elem:\n",
        "        depth(e, level)\n",
        "    if(level > maxdepth):\n",
        "        maxdepth = level\n",
        "\n",
        "\n"
      ],
      "metadata": {
        "id": "WoYYiHXhhXqh"
      },
      "execution_count": null,
      "outputs": []
    },
    {
      "cell_type": "markdown",
      "source": [
        "# Standardize Mobile Number Using Decorators\n"
      ],
      "metadata": {
        "id": "vXwCfYbjhYZt"
      }
    },
    {
      "cell_type": "code",
      "source": [
        "from re import sub\n",
        "\n",
        "from re import sub\n",
        "\n",
        "def wrapper(f):\n",
        "    r = r\"^(?:\\+?91|0)?(\\d{5})(\\d{5})$\"\n",
        "    s = r\"+91 \\1 \\2\"\n",
        "\n",
        "    def fun(li):\n",
        "        return f([sub(r, s, i) for i in li if sub(r, s, i)])\n",
        "    return fun\n",
        "\n",
        "def sort_and_print_numbers(numbers):\n",
        "    for number in sorted(numbers):\n",
        "        print(number)\n"
      ],
      "metadata": {
        "id": "9eDcwc8whhoE"
      },
      "execution_count": null,
      "outputs": []
    },
    {
      "cell_type": "markdown",
      "source": [
        "#Decorators 2 - Name Directory\n"
      ],
      "metadata": {
        "id": "SlZJgE4vhpOi"
      }
    },
    {
      "cell_type": "code",
      "source": [
        "def person_lister(f):\n",
        "    def inner(people):\n",
        "        return [f(person) for person in sorted(people, key=lambda x: int(x[2]))]\n",
        "    return inner\n",
        "\n",
        "\n",
        "\n"
      ],
      "metadata": {
        "id": "--FooH83hqCC"
      },
      "execution_count": null,
      "outputs": []
    },
    {
      "cell_type": "markdown",
      "source": [
        "#Insertion Sort - Part 2\n"
      ],
      "metadata": {
        "id": "HmaN0RwehteH"
      }
    },
    {
      "cell_type": "code",
      "source": [
        "#!/bin/python3\n",
        "\n",
        "def insertionSort2(n, arr):\n",
        "    for i in range(1, n):\n",
        "        key = arr[i]\n",
        "        j = i - 1\n",
        "        while j >= 0 and key < arr[j]:\n",
        "            arr[j + 1] = arr[j]\n",
        "            j -= 1\n",
        "        arr[j + 1] = key\n",
        "        print(\" \".join(map(str, arr)))\n",
        "\n",
        "if __name__ == '__main__':\n",
        "    n = int(input().strip())\n",
        "    arr = list(map(int, input().rstrip().split()))\n",
        "    insertionSort2(n, arr)\n"
      ],
      "metadata": {
        "id": "DPuloPR3hyM_"
      },
      "execution_count": null,
      "outputs": []
    },
    {
      "cell_type": "markdown",
      "source": [
        "#Text Alignment\n"
      ],
      "metadata": {
        "id": "LwuY-Huwhzs1"
      }
    },
    {
      "cell_type": "code",
      "source": [
        "\n",
        "\n",
        "thickness = int(input())\n",
        "c = 'H'\n",
        "\n",
        "# Top cone\n",
        "for i in range(thickness):\n",
        "    print((c*i).rjust(thickness-1) + c + (c*i).ljust(thickness-1))\n",
        "\n",
        "# Top pillars\n",
        "for i in range(thickness+1):\n",
        "    print((c*thickness).center(thickness*2) + (c*thickness).center(thickness*6))\n",
        "\n",
        "# Middle section\n",
        "for i in range((thickness+1)//2):\n",
        "    print((c*thickness*5).center(thickness*6))\n",
        "\n",
        "# Bottom pillars\n",
        "for i in range(thickness+1):\n",
        "    print((c*thickness).center(thickness*2) + (c*thickness).center(thickness*6))\n",
        "\n",
        "# Bottom cone\n",
        "for i in range(thickness):\n",
        "    print(((c*(thickness-i-1)).rjust(thickness) + c + (c*(thickness-i-1)).ljust(thickness)).rjust(thickness*6))\n",
        "\n",
        "\n",
        "\n",
        "\n"
      ],
      "metadata": {
        "id": "XvB7Upzhh6RH"
      },
      "execution_count": null,
      "outputs": []
    },
    {
      "cell_type": "markdown",
      "source": [
        "#Birthday Cake Candles\n"
      ],
      "metadata": {
        "id": "iDqrAxIlh-8V"
      }
    },
    {
      "cell_type": "code",
      "source": [
        "#!/bin/python3\n",
        "import os\n",
        "\n",
        "def birthdayCakeCandles(candles):\n",
        "    highestValue = max(candles)\n",
        "    count = candles.count(highestValue)\n",
        "    return count\n",
        "\n",
        "if __name__ == '__main__':\n",
        "    fptr = open(os.environ['OUTPUT_PATH'], 'w')\n",
        "\n",
        "    candles_count = int(input().strip())\n",
        "    candles = list(map(int, input().rstrip().split()))\n",
        "\n",
        "    result = birthdayCakeCandles(candles)\n",
        "\n",
        "    fptr.write(str(result) + '\\n')\n",
        "    fptr.close()\n"
      ],
      "metadata": {
        "id": "E7g60Uo2iGgu"
      },
      "execution_count": null,
      "outputs": []
    },
    {
      "cell_type": "markdown",
      "source": [
        "#Number Line Jumps\n"
      ],
      "metadata": {
        "id": "G_18fiuwiKne"
      }
    },
    {
      "cell_type": "code",
      "source": [
        "#!/bin/python3\n",
        "\n",
        "import os\n",
        "\n",
        "def kangaroo(x1, v1, x2, v2):\n",
        "    if (v1 - v2) == 0:\n",
        "        return \"NO\"\n",
        "    result = (x2 - x1) / (v1 - v2)\n",
        "    return \"YES\" if result > 0 and result.is_integer() else \"NO\"\n",
        "\n",
        "if __name__ == '__main__':\n",
        "    fptr = open(os.environ['OUTPUT_PATH'], 'w')\n",
        "\n",
        "    first_multiple_input = input().rstrip().split()\n",
        "\n",
        "    x1 = int(first_multiple_input[0])\n",
        "    v1 = int(first_multiple_input[1])\n",
        "    x2 = int(first_multiple_input[2])\n",
        "    v2 = int(first_multiple_input[3])\n",
        "\n",
        "    result = kangaroo(x1, v1, x2, v2)\n",
        "\n",
        "    fptr.write(result + '\\n')\n",
        "    fptr.close()\n"
      ],
      "metadata": {
        "id": "bAqeLanAiLW2"
      },
      "execution_count": null,
      "outputs": []
    },
    {
      "cell_type": "markdown",
      "source": [
        "#Viral Advertising\n"
      ],
      "metadata": {
        "id": "FzE6_e3AiQpu"
      }
    },
    {
      "cell_type": "code",
      "source": [
        "def annuncio(n):\n",
        "    condivisioni = 5\n",
        "    mipiace = 0\n",
        "\n",
        "    for day in range(1, n+1):\n",
        "        liked = condivisioni // 2\n",
        "        mipiace += liked\n",
        "        condivisioni = liked * 3\n",
        "\n",
        "    return mipiace\n",
        "if __name__ == '__main__':\n",
        "    n = int(input().strip())\n",
        "    result = annuncio(n)\n",
        "    print(result)\n"
      ],
      "metadata": {
        "id": "QhoSqmITiQEt"
      },
      "execution_count": null,
      "outputs": []
    },
    {
      "cell_type": "markdown",
      "source": [
        "#Recursive Digit Sum\n"
      ],
      "metadata": {
        "id": "IU1_aODkidaV"
      }
    },
    {
      "cell_type": "code",
      "source": [
        "def superDigit(n, k):\n",
        "    p = str(sum(int(digit) for digit in n) * k)\n",
        "\n",
        "    if len(p) == 1:\n",
        "        return int(p)\n",
        "    else:\n",
        "        return superDigit(p, 1)\n",
        "\n",
        "if __name__ == '__main__':\n",
        "    first_multiple_input = input().rstrip().split()\n",
        "\n",
        "    n = first_multiple_input[0]\n",
        "    k = int(first_multiple_input[1])\n",
        "\n",
        "    result = superDigit(n, k)\n",
        "\n",
        "    print(result)\n"
      ],
      "metadata": {
        "id": "5S4EJQufihis"
      },
      "execution_count": null,
      "outputs": []
    },
    {
      "cell_type": "markdown",
      "source": [
        "# Insertion Sort - Part 1\n"
      ],
      "metadata": {
        "id": "7m4N_EFEi4RF"
      }
    },
    {
      "cell_type": "code",
      "source": [
        "#!/bin/python3\n",
        "\n",
        "def insertionSort1(n, arr):\n",
        "    value = arr[-1]\n",
        "    i = n - 2\n",
        "    while i >= 0 and arr[i] > value:\n",
        "        arr[i + 1] = arr[i]\n",
        "        print(\" \".join(map(str, arr)))\n",
        "        i -= 1\n",
        "    arr[i + 1] = value\n",
        "    print(\" \".join(map(str, arr)))\n",
        "\n",
        "if __name__ == '__main__':\n",
        "    n = int(input().strip())\n",
        "    arr = list(map(int, input().rstrip().split()))\n",
        "    insertionSort1(n, arr)\n"
      ],
      "metadata": {
        "id": "JvvYuSI-i882"
      },
      "execution_count": null,
      "outputs": []
    }
  ]
}